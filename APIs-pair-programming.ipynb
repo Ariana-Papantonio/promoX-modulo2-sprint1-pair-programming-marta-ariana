{
 "cells": [
  {
   "cell_type": "code",
   "execution_count": 2,
   "metadata": {},
   "outputs": [],
   "source": [
    "import requests\n",
    "import pandas as pd"
   ]
  },
  {
   "cell_type": "code",
   "execution_count": 155,
   "metadata": {},
   "outputs": [],
   "source": [
    "url_energias = \"https://apidatos.ree.es/es/datos/generacion/estructura-generacion?start_date=2011-01-01T00:00&end_date=2011-12-31T23:59&time_trunc=year\"\n",
    "               \n"
   ]
  },
  {
   "cell_type": "markdown",
   "metadata": {},
   "source": [
    "\"https://apidatos.ree.es/es/datos/generacion/estructura-generacion?start_date=2019-01-01T00:00&end_date=2019-01-31T23:59&time_trunc=day\"\n",
    "\n",
    "\"https://apidatos.ree.es/es/datos/generacion/estructura-generacion?start_date=2011-01-01T00:00&end_date=2022-12-31T23:59&time_trunc=day\""
   ]
  },
  {
   "cell_type": "code",
   "execution_count": 156,
   "metadata": {},
   "outputs": [],
   "source": [
    "respuesta = requests.get(url_energias)"
   ]
  },
  {
   "cell_type": "code",
   "execution_count": 157,
   "metadata": {},
   "outputs": [
    {
     "data": {
      "text/plain": [
       "200"
      ]
     },
     "execution_count": 157,
     "metadata": {},
     "output_type": "execute_result"
    }
   ],
   "source": [
    "respuesta.status_code"
   ]
  },
  {
   "cell_type": "code",
   "execution_count": 158,
   "metadata": {},
   "outputs": [
    {
     "data": {
      "text/plain": [
       "b'{\"data\":{\"type\":\"Generaci\\\\u00f3n por tecnolog\\\\u00eda\",\"id\":\"gen1\",\"attributes\":{\"title\":\"Generaci\\\\u00f3n por tecnolog\\\\u00eda\",\"last-update\":\"2019-06-12T15:32:24.000+02:00\",\"description\":null},\"meta\":{\"cache-control\":{\"cache\":\"MISS\"}}},\"included\":[{\"type\":\"Hidr\\\\u00e1ulica\",\"id\":\"10288\",\"groupId\":\"1\",\"attributes\":{\"title\":\"Hidr\\\\u00e1ulica\",\"description\":null,\"color\":\"#0090d1\",\"type\":\"Renovable\",\"magnitude\":null,\"composite\":false,\"last-update\":\"2019-06-12T15:32:24.000+02:00\",\"values\":[{\"value\":30437318.14,\"percentage\":0.10894834459010809,\"datetime\":\"2011-01-01T00:00:00.000+01:00\"}]}},{\"type\":\"Turbinaci\\\\u00f3n bombeo\",\"id\":\"1445\",\"groupId\":\"1\",\"attributes\":{\"title\":\"Turbinaci\\\\u00f3n bombeo\",\"description\":null,\"color\":\"#007cf9\",\"type\":\"No-Renovable\",\"magnitude\":null,\"composite\":false,\"last-update\":\"2019-06-12T15:32:24.000+02:00\",\"values\":[{\"value\":2183536.285,\"percentage\":0.007815822094081002,\"datetime\":\"2011-01-01T00:00:00.000+01:00\"}]}},{\"type\":\"Nuclear\",\"id\":\"1446\",\"groupId\":\"1\",\"attributes\":{\"title\":\"Nuclear\",\"description\":null,\"color\":\"#464394\",\"type\":\"No-Renovable\",\"magnitude\":null,\"composite\":false,\"last-update\":\"2018-12-10T12:55:09.000+01:00\",\"values\":[{\"value\":55005874.867,\"percentage\":0.19688985021366542,\"datetime\":\"2011-01-01T00:00:00.000+01:00\"}]}},{\"type\":\"Carb\\\\u00f3n\",\"id\":\"10289\",\"groupId\":\"1\",\"attributes\":{\"title\":\"Carb\\\\u00f3n\",\"description\":null,\"color\":\"#993300\",\"type\":\"No-Renovable\",\"magnitude\":null,\"composite\":false,\"last-update\":\"2018-12-21T10:43:14.000+01:00\",\"values\":[{\"value\":43177464.3769999,\"percentage\":0.1545508459659745,\"datetime\":\"2011-01-01T00:00:00.000+01:00\"}]}},{\"type\":\"Fuel + Gas\",\"id\":\"10290\",\"groupId\":\"1\",\"attributes\":{\"title\":\"Fuel + Gas\",\"description\":null,\"color\":\"#ba0f16\",\"type\":\"No-Renovable\",\"magnitude\":null,\"composite\":false,\"last-update\":\"2018-12-10T12:55:14.000+01:00\",\"values\":[{\"value\":-10012.343,\"percentage\":3.5838512128465617e-5,\"datetime\":\"2011-01-01T00:00:00.000+01:00\"}]}},{\"type\":\"Motores di\\\\u00e9sel\",\"id\":\"10344\",\"groupId\":\"1\",\"attributes\":{\"title\":\"Motores di\\\\u00e9sel\",\"description\":null,\"color\":\"#8DA69F\",\"type\":\"No-Renovable\",\"magnitude\":null,\"composite\":false,\"last-update\":\"2018-12-21T10:43:15.000+01:00\",\"values\":[{\"value\":3503397.878,\"percentage\":0.012540178391965168,\"datetime\":\"2011-01-01T00:00:00.000+01:00\"}]}},{\"type\":\"Turbina de gas\",\"id\":\"1450\",\"groupId\":\"1\",\"attributes\":{\"title\":\"Turbina de gas\",\"description\":null,\"color\":\"#00ccff\",\"type\":\"No-Renovable\",\"magnitude\":null,\"composite\":false,\"last-update\":\"2018-12-21T10:43:18.000+01:00\",\"values\":[{\"value\":880242.223,\"percentage\":0.003150768165350811,\"datetime\":\"2011-01-01T00:00:00.000+01:00\"}]}},{\"type\":\"Turbina de vapor\",\"id\":\"1451\",\"groupId\":\"1\",\"attributes\":{\"title\":\"Turbina de vapor\",\"description\":null,\"color\":\"#AF8E00\",\"type\":\"No-Renovable\",\"magnitude\":null,\"composite\":false,\"last-update\":\"2018-12-10T12:55:13.000+01:00\",\"values\":[{\"value\":2634295.117,\"percentage\":0.009429283185819967,\"datetime\":\"2011-01-01T00:00:00.000+01:00\"}]}},{\"type\":\"Ciclo combinado\",\"id\":\"1454\",\"groupId\":\"1\",\"attributes\":{\"title\":\"Ciclo combinado\",\"description\":null,\"color\":\"#ffcc66\",\"type\":\"No-Renovable\",\"magnitude\":null,\"composite\":false,\"last-update\":\"2018-12-21T10:43:20.000+01:00\",\"values\":[{\"value\":53430948.742,\"percentage\":0.19125250748257341,\"datetime\":\"2011-01-01T00:00:00.000+01:00\"}]}},{\"type\":\"E\\\\u00f3lica\",\"id\":\"10291\",\"groupId\":\"1\",\"attributes\":{\"title\":\"E\\\\u00f3lica\",\"description\":null,\"color\":\"#6fb114\",\"type\":\"Renovable\",\"magnitude\":null,\"composite\":false,\"last-update\":\"2018-12-10T12:55:16.000+01:00\",\"values\":[{\"value\":42477250.769,\"percentage\":0.15204447818744143,\"datetime\":\"2011-01-01T00:00:00.000+01:00\"}]}},{\"type\":\"Solar fotovoltaica\",\"id\":\"1458\",\"groupId\":\"1\",\"attributes\":{\"title\":\"Solar fotovoltaica\",\"description\":null,\"color\":\"#e48500\",\"type\":\"Renovable\",\"magnitude\":null,\"composite\":false,\"last-update\":\"2018-12-10T12:55:17.000+01:00\",\"values\":[{\"value\":7440752.38,\"percentage\":0.026633675495889363,\"datetime\":\"2011-01-01T00:00:00.000+01:00\"}]}},{\"type\":\"Solar t\\\\u00e9rmica\",\"id\":\"1459\",\"groupId\":\"1\",\"attributes\":{\"title\":\"Solar t\\\\u00e9rmica\",\"description\":null,\"color\":\"#ff0000\",\"type\":\"Renovable\",\"magnitude\":null,\"composite\":false,\"last-update\":\"2018-12-10T12:55:18.000+01:00\",\"values\":[{\"value\":1861641.549,\"percentage\":0.006663621415356228,\"datetime\":\"2011-01-01T00:00:00.000+01:00\"}]}},{\"type\":\"Otras renovables\",\"id\":\"10292\",\"groupId\":\"1\",\"attributes\":{\"title\":\"Otras renovables\",\"description\":null,\"color\":\"#9a5cbc\",\"type\":\"Renovable\",\"magnitude\":null,\"composite\":false,\"last-update\":\"2018-12-10T12:55:21.000+01:00\",\"values\":[{\"value\":3714034.268,\"percentage\":0.013294137262302632,\"datetime\":\"2011-01-01T00:00:00.000+01:00\"}]}},{\"type\":\"Cogeneraci\\\\u00f3n\",\"id\":\"10293\",\"groupId\":\"1\",\"attributes\":{\"title\":\"Cogeneraci\\\\u00f3n\",\"description\":null,\"color\":\"#cfa2ca\",\"type\":\"No-Renovable\",\"magnitude\":null,\"composite\":false,\"last-update\":\"2018-12-10T12:55:24.000+01:00\",\"values\":[{\"value\":30593251.7239999,\"percentage\":0.10950649842497126,\"datetime\":\"2011-01-01T00:00:00.000+01:00\"}]}},{\"type\":\"Residuos no renovables\",\"id\":\"10294\",\"groupId\":\"1\",\"attributes\":{\"title\":\"Residuos no renovables\",\"description\":null,\"color\":\"#666666\",\"type\":\"No-Renovable\",\"magnitude\":null,\"composite\":false,\"last-update\":\"2018-12-10T12:55:27.000+01:00\",\"values\":[{\"value\":1287770.48,\"percentage\":0.004609488305200889,\"datetime\":\"2011-01-01T00:00:00.000+01:00\"}]}},{\"type\":\"Residuos renovables\",\"id\":\"10295\",\"groupId\":\"1\",\"attributes\":{\"title\":\"Residuos renovables\",\"description\":null,\"color\":\"#a0a0a0\",\"type\":\"Renovable\",\"magnitude\":null,\"composite\":false,\"last-update\":\"2018-12-10T12:55:25.000+01:00\",\"values\":[{\"value\":736055.744,\"percentage\":0.0026346623071713364,\"datetime\":\"2011-01-01T00:00:00.000+01:00\"}]}},{\"type\":\"Generaci\\\\u00f3n total\",\"id\":\"1\",\"groupId\":\"1\",\"attributes\":{\"title\":\"Generaci\\\\u00f3n total\",\"description\":null,\"color\":\"#2b2e34\",\"type\":\"Generaci\\\\u00f3n total\",\"magnitude\":null,\"composite\":true,\"last-update\":\"2019-06-12T15:32:24.000+02:00\",\"values\":[{\"value\":279353822.1999998,\"percentage\":1,\"datetime\":\"2011-01-01T00:00:00.000+01:00\"}]}}]}'"
      ]
     },
     "execution_count": 158,
     "metadata": {},
     "output_type": "execute_result"
    }
   ],
   "source": [
    "respuesta.content"
   ]
  },
  {
   "cell_type": "code",
   "execution_count": 159,
   "metadata": {},
   "outputs": [
    {
     "data": {
      "text/plain": [
       "{'data': {'type': 'Generación por tecnología',\n",
       "  'id': 'gen1',\n",
       "  'attributes': {'title': 'Generación por tecnología',\n",
       "   'last-update': '2019-06-12T15:32:24.000+02:00',\n",
       "   'description': None},\n",
       "  'meta': {'cache-control': {'cache': 'MISS'}}},\n",
       " 'included': [{'type': 'Hidráulica',\n",
       "   'id': '10288',\n",
       "   'groupId': '1',\n",
       "   'attributes': {'title': 'Hidráulica',\n",
       "    'description': None,\n",
       "    'color': '#0090d1',\n",
       "    'type': 'Renovable',\n",
       "    'magnitude': None,\n",
       "    'composite': False,\n",
       "    'last-update': '2019-06-12T15:32:24.000+02:00',\n",
       "    'values': [{'value': 30437318.14,\n",
       "      'percentage': 0.10894834459010809,\n",
       "      'datetime': '2011-01-01T00:00:00.000+01:00'}]}},\n",
       "  {'type': 'Turbinación bombeo',\n",
       "   'id': '1445',\n",
       "   'groupId': '1',\n",
       "   'attributes': {'title': 'Turbinación bombeo',\n",
       "    'description': None,\n",
       "    'color': '#007cf9',\n",
       "    'type': 'No-Renovable',\n",
       "    'magnitude': None,\n",
       "    'composite': False,\n",
       "    'last-update': '2019-06-12T15:32:24.000+02:00',\n",
       "    'values': [{'value': 2183536.285,\n",
       "      'percentage': 0.007815822094081002,\n",
       "      'datetime': '2011-01-01T00:00:00.000+01:00'}]}},\n",
       "  {'type': 'Nuclear',\n",
       "   'id': '1446',\n",
       "   'groupId': '1',\n",
       "   'attributes': {'title': 'Nuclear',\n",
       "    'description': None,\n",
       "    'color': '#464394',\n",
       "    'type': 'No-Renovable',\n",
       "    'magnitude': None,\n",
       "    'composite': False,\n",
       "    'last-update': '2018-12-10T12:55:09.000+01:00',\n",
       "    'values': [{'value': 55005874.867,\n",
       "      'percentage': 0.19688985021366542,\n",
       "      'datetime': '2011-01-01T00:00:00.000+01:00'}]}},\n",
       "  {'type': 'Carbón',\n",
       "   'id': '10289',\n",
       "   'groupId': '1',\n",
       "   'attributes': {'title': 'Carbón',\n",
       "    'description': None,\n",
       "    'color': '#993300',\n",
       "    'type': 'No-Renovable',\n",
       "    'magnitude': None,\n",
       "    'composite': False,\n",
       "    'last-update': '2018-12-21T10:43:14.000+01:00',\n",
       "    'values': [{'value': 43177464.3769999,\n",
       "      'percentage': 0.1545508459659745,\n",
       "      'datetime': '2011-01-01T00:00:00.000+01:00'}]}},\n",
       "  {'type': 'Fuel + Gas',\n",
       "   'id': '10290',\n",
       "   'groupId': '1',\n",
       "   'attributes': {'title': 'Fuel + Gas',\n",
       "    'description': None,\n",
       "    'color': '#ba0f16',\n",
       "    'type': 'No-Renovable',\n",
       "    'magnitude': None,\n",
       "    'composite': False,\n",
       "    'last-update': '2018-12-10T12:55:14.000+01:00',\n",
       "    'values': [{'value': -10012.343,\n",
       "      'percentage': 3.5838512128465617e-05,\n",
       "      'datetime': '2011-01-01T00:00:00.000+01:00'}]}},\n",
       "  {'type': 'Motores diésel',\n",
       "   'id': '10344',\n",
       "   'groupId': '1',\n",
       "   'attributes': {'title': 'Motores diésel',\n",
       "    'description': None,\n",
       "    'color': '#8DA69F',\n",
       "    'type': 'No-Renovable',\n",
       "    'magnitude': None,\n",
       "    'composite': False,\n",
       "    'last-update': '2018-12-21T10:43:15.000+01:00',\n",
       "    'values': [{'value': 3503397.878,\n",
       "      'percentage': 0.012540178391965168,\n",
       "      'datetime': '2011-01-01T00:00:00.000+01:00'}]}},\n",
       "  {'type': 'Turbina de gas',\n",
       "   'id': '1450',\n",
       "   'groupId': '1',\n",
       "   'attributes': {'title': 'Turbina de gas',\n",
       "    'description': None,\n",
       "    'color': '#00ccff',\n",
       "    'type': 'No-Renovable',\n",
       "    'magnitude': None,\n",
       "    'composite': False,\n",
       "    'last-update': '2018-12-21T10:43:18.000+01:00',\n",
       "    'values': [{'value': 880242.223,\n",
       "      'percentage': 0.003150768165350811,\n",
       "      'datetime': '2011-01-01T00:00:00.000+01:00'}]}},\n",
       "  {'type': 'Turbina de vapor',\n",
       "   'id': '1451',\n",
       "   'groupId': '1',\n",
       "   'attributes': {'title': 'Turbina de vapor',\n",
       "    'description': None,\n",
       "    'color': '#AF8E00',\n",
       "    'type': 'No-Renovable',\n",
       "    'magnitude': None,\n",
       "    'composite': False,\n",
       "    'last-update': '2018-12-10T12:55:13.000+01:00',\n",
       "    'values': [{'value': 2634295.117,\n",
       "      'percentage': 0.009429283185819967,\n",
       "      'datetime': '2011-01-01T00:00:00.000+01:00'}]}},\n",
       "  {'type': 'Ciclo combinado',\n",
       "   'id': '1454',\n",
       "   'groupId': '1',\n",
       "   'attributes': {'title': 'Ciclo combinado',\n",
       "    'description': None,\n",
       "    'color': '#ffcc66',\n",
       "    'type': 'No-Renovable',\n",
       "    'magnitude': None,\n",
       "    'composite': False,\n",
       "    'last-update': '2018-12-21T10:43:20.000+01:00',\n",
       "    'values': [{'value': 53430948.742,\n",
       "      'percentage': 0.19125250748257341,\n",
       "      'datetime': '2011-01-01T00:00:00.000+01:00'}]}},\n",
       "  {'type': 'Eólica',\n",
       "   'id': '10291',\n",
       "   'groupId': '1',\n",
       "   'attributes': {'title': 'Eólica',\n",
       "    'description': None,\n",
       "    'color': '#6fb114',\n",
       "    'type': 'Renovable',\n",
       "    'magnitude': None,\n",
       "    'composite': False,\n",
       "    'last-update': '2018-12-10T12:55:16.000+01:00',\n",
       "    'values': [{'value': 42477250.769,\n",
       "      'percentage': 0.15204447818744143,\n",
       "      'datetime': '2011-01-01T00:00:00.000+01:00'}]}},\n",
       "  {'type': 'Solar fotovoltaica',\n",
       "   'id': '1458',\n",
       "   'groupId': '1',\n",
       "   'attributes': {'title': 'Solar fotovoltaica',\n",
       "    'description': None,\n",
       "    'color': '#e48500',\n",
       "    'type': 'Renovable',\n",
       "    'magnitude': None,\n",
       "    'composite': False,\n",
       "    'last-update': '2018-12-10T12:55:17.000+01:00',\n",
       "    'values': [{'value': 7440752.38,\n",
       "      'percentage': 0.026633675495889363,\n",
       "      'datetime': '2011-01-01T00:00:00.000+01:00'}]}},\n",
       "  {'type': 'Solar térmica',\n",
       "   'id': '1459',\n",
       "   'groupId': '1',\n",
       "   'attributes': {'title': 'Solar térmica',\n",
       "    'description': None,\n",
       "    'color': '#ff0000',\n",
       "    'type': 'Renovable',\n",
       "    'magnitude': None,\n",
       "    'composite': False,\n",
       "    'last-update': '2018-12-10T12:55:18.000+01:00',\n",
       "    'values': [{'value': 1861641.549,\n",
       "      'percentage': 0.006663621415356228,\n",
       "      'datetime': '2011-01-01T00:00:00.000+01:00'}]}},\n",
       "  {'type': 'Otras renovables',\n",
       "   'id': '10292',\n",
       "   'groupId': '1',\n",
       "   'attributes': {'title': 'Otras renovables',\n",
       "    'description': None,\n",
       "    'color': '#9a5cbc',\n",
       "    'type': 'Renovable',\n",
       "    'magnitude': None,\n",
       "    'composite': False,\n",
       "    'last-update': '2018-12-10T12:55:21.000+01:00',\n",
       "    'values': [{'value': 3714034.268,\n",
       "      'percentage': 0.013294137262302632,\n",
       "      'datetime': '2011-01-01T00:00:00.000+01:00'}]}},\n",
       "  {'type': 'Cogeneración',\n",
       "   'id': '10293',\n",
       "   'groupId': '1',\n",
       "   'attributes': {'title': 'Cogeneración',\n",
       "    'description': None,\n",
       "    'color': '#cfa2ca',\n",
       "    'type': 'No-Renovable',\n",
       "    'magnitude': None,\n",
       "    'composite': False,\n",
       "    'last-update': '2018-12-10T12:55:24.000+01:00',\n",
       "    'values': [{'value': 30593251.7239999,\n",
       "      'percentage': 0.10950649842497126,\n",
       "      'datetime': '2011-01-01T00:00:00.000+01:00'}]}},\n",
       "  {'type': 'Residuos no renovables',\n",
       "   'id': '10294',\n",
       "   'groupId': '1',\n",
       "   'attributes': {'title': 'Residuos no renovables',\n",
       "    'description': None,\n",
       "    'color': '#666666',\n",
       "    'type': 'No-Renovable',\n",
       "    'magnitude': None,\n",
       "    'composite': False,\n",
       "    'last-update': '2018-12-10T12:55:27.000+01:00',\n",
       "    'values': [{'value': 1287770.48,\n",
       "      'percentage': 0.004609488305200889,\n",
       "      'datetime': '2011-01-01T00:00:00.000+01:00'}]}},\n",
       "  {'type': 'Residuos renovables',\n",
       "   'id': '10295',\n",
       "   'groupId': '1',\n",
       "   'attributes': {'title': 'Residuos renovables',\n",
       "    'description': None,\n",
       "    'color': '#a0a0a0',\n",
       "    'type': 'Renovable',\n",
       "    'magnitude': None,\n",
       "    'composite': False,\n",
       "    'last-update': '2018-12-10T12:55:25.000+01:00',\n",
       "    'values': [{'value': 736055.744,\n",
       "      'percentage': 0.0026346623071713364,\n",
       "      'datetime': '2011-01-01T00:00:00.000+01:00'}]}},\n",
       "  {'type': 'Generación total',\n",
       "   'id': '1',\n",
       "   'groupId': '1',\n",
       "   'attributes': {'title': 'Generación total',\n",
       "    'description': None,\n",
       "    'color': '#2b2e34',\n",
       "    'type': 'Generación total',\n",
       "    'magnitude': None,\n",
       "    'composite': True,\n",
       "    'last-update': '2019-06-12T15:32:24.000+02:00',\n",
       "    'values': [{'value': 279353822.1999998,\n",
       "      'percentage': 1,\n",
       "      'datetime': '2011-01-01T00:00:00.000+01:00'}]}}]}"
      ]
     },
     "execution_count": 159,
     "metadata": {},
     "output_type": "execute_result"
    }
   ],
   "source": [
    "respuesta.json()"
   ]
  },
  {
   "cell_type": "code",
   "execution_count": 160,
   "metadata": {},
   "outputs": [],
   "source": [
    "info_energia = respuesta.json()"
   ]
  },
  {
   "cell_type": "code",
   "execution_count": 161,
   "metadata": {},
   "outputs": [
    {
     "data": {
      "text/plain": [
       "dict"
      ]
     },
     "execution_count": 161,
     "metadata": {},
     "output_type": "execute_result"
    }
   ],
   "source": [
    "type(info_energia[\"data\"])"
   ]
  },
  {
   "cell_type": "code",
   "execution_count": 170,
   "metadata": {},
   "outputs": [
    {
     "data": {
      "text/plain": [
       "dict_keys(['data', 'included'])"
      ]
     },
     "execution_count": 170,
     "metadata": {},
     "output_type": "execute_result"
    }
   ],
   "source": [
    "info_energia.keys()"
   ]
  },
  {
   "cell_type": "code",
   "execution_count": 182,
   "metadata": {},
   "outputs": [
    {
     "data": {
      "text/plain": [
       "{'type': 'Generación por tecnología',\n",
       " 'id': 'gen1',\n",
       " 'attributes': {'title': 'Generación por tecnología',\n",
       "  'last-update': '2019-06-12T15:32:24.000+02:00',\n",
       "  'description': None},\n",
       " 'meta': {'cache-control': {'cache': 'MISS'}}}"
      ]
     },
     "execution_count": 182,
     "metadata": {},
     "output_type": "execute_result"
    }
   ],
   "source": [
    "info_energia['data']\n"
   ]
  },
  {
   "cell_type": "code",
   "execution_count": 172,
   "metadata": {},
   "outputs": [
    {
     "data": {
      "text/plain": [
       "[{'type': 'Hidráulica',\n",
       "  'id': '10288',\n",
       "  'groupId': '1',\n",
       "  'attributes': {'title': 'Hidráulica',\n",
       "   'description': None,\n",
       "   'color': '#0090d1',\n",
       "   'type': 'Renovable',\n",
       "   'magnitude': None,\n",
       "   'composite': False,\n",
       "   'last-update': '2019-06-12T15:32:24.000+02:00',\n",
       "   'values': [{'value': 30437318.14,\n",
       "     'percentage': 0.10894834459010809,\n",
       "     'datetime': '2011-01-01T00:00:00.000+01:00'}]}},\n",
       " {'type': 'Turbinación bombeo',\n",
       "  'id': '1445',\n",
       "  'groupId': '1',\n",
       "  'attributes': {'title': 'Turbinación bombeo',\n",
       "   'description': None,\n",
       "   'color': '#007cf9',\n",
       "   'type': 'No-Renovable',\n",
       "   'magnitude': None,\n",
       "   'composite': False,\n",
       "   'last-update': '2019-06-12T15:32:24.000+02:00',\n",
       "   'values': [{'value': 2183536.285,\n",
       "     'percentage': 0.007815822094081002,\n",
       "     'datetime': '2011-01-01T00:00:00.000+01:00'}]}},\n",
       " {'type': 'Nuclear',\n",
       "  'id': '1446',\n",
       "  'groupId': '1',\n",
       "  'attributes': {'title': 'Nuclear',\n",
       "   'description': None,\n",
       "   'color': '#464394',\n",
       "   'type': 'No-Renovable',\n",
       "   'magnitude': None,\n",
       "   'composite': False,\n",
       "   'last-update': '2018-12-10T12:55:09.000+01:00',\n",
       "   'values': [{'value': 55005874.867,\n",
       "     'percentage': 0.19688985021366542,\n",
       "     'datetime': '2011-01-01T00:00:00.000+01:00'}]}},\n",
       " {'type': 'Carbón',\n",
       "  'id': '10289',\n",
       "  'groupId': '1',\n",
       "  'attributes': {'title': 'Carbón',\n",
       "   'description': None,\n",
       "   'color': '#993300',\n",
       "   'type': 'No-Renovable',\n",
       "   'magnitude': None,\n",
       "   'composite': False,\n",
       "   'last-update': '2018-12-21T10:43:14.000+01:00',\n",
       "   'values': [{'value': 43177464.3769999,\n",
       "     'percentage': 0.1545508459659745,\n",
       "     'datetime': '2011-01-01T00:00:00.000+01:00'}]}},\n",
       " {'type': 'Fuel + Gas',\n",
       "  'id': '10290',\n",
       "  'groupId': '1',\n",
       "  'attributes': {'title': 'Fuel + Gas',\n",
       "   'description': None,\n",
       "   'color': '#ba0f16',\n",
       "   'type': 'No-Renovable',\n",
       "   'magnitude': None,\n",
       "   'composite': False,\n",
       "   'last-update': '2018-12-10T12:55:14.000+01:00',\n",
       "   'values': [{'value': -10012.343,\n",
       "     'percentage': 3.5838512128465617e-05,\n",
       "     'datetime': '2011-01-01T00:00:00.000+01:00'}]}},\n",
       " {'type': 'Motores diésel',\n",
       "  'id': '10344',\n",
       "  'groupId': '1',\n",
       "  'attributes': {'title': 'Motores diésel',\n",
       "   'description': None,\n",
       "   'color': '#8DA69F',\n",
       "   'type': 'No-Renovable',\n",
       "   'magnitude': None,\n",
       "   'composite': False,\n",
       "   'last-update': '2018-12-21T10:43:15.000+01:00',\n",
       "   'values': [{'value': 3503397.878,\n",
       "     'percentage': 0.012540178391965168,\n",
       "     'datetime': '2011-01-01T00:00:00.000+01:00'}]}},\n",
       " {'type': 'Turbina de gas',\n",
       "  'id': '1450',\n",
       "  'groupId': '1',\n",
       "  'attributes': {'title': 'Turbina de gas',\n",
       "   'description': None,\n",
       "   'color': '#00ccff',\n",
       "   'type': 'No-Renovable',\n",
       "   'magnitude': None,\n",
       "   'composite': False,\n",
       "   'last-update': '2018-12-21T10:43:18.000+01:00',\n",
       "   'values': [{'value': 880242.223,\n",
       "     'percentage': 0.003150768165350811,\n",
       "     'datetime': '2011-01-01T00:00:00.000+01:00'}]}},\n",
       " {'type': 'Turbina de vapor',\n",
       "  'id': '1451',\n",
       "  'groupId': '1',\n",
       "  'attributes': {'title': 'Turbina de vapor',\n",
       "   'description': None,\n",
       "   'color': '#AF8E00',\n",
       "   'type': 'No-Renovable',\n",
       "   'magnitude': None,\n",
       "   'composite': False,\n",
       "   'last-update': '2018-12-10T12:55:13.000+01:00',\n",
       "   'values': [{'value': 2634295.117,\n",
       "     'percentage': 0.009429283185819967,\n",
       "     'datetime': '2011-01-01T00:00:00.000+01:00'}]}},\n",
       " {'type': 'Ciclo combinado',\n",
       "  'id': '1454',\n",
       "  'groupId': '1',\n",
       "  'attributes': {'title': 'Ciclo combinado',\n",
       "   'description': None,\n",
       "   'color': '#ffcc66',\n",
       "   'type': 'No-Renovable',\n",
       "   'magnitude': None,\n",
       "   'composite': False,\n",
       "   'last-update': '2018-12-21T10:43:20.000+01:00',\n",
       "   'values': [{'value': 53430948.742,\n",
       "     'percentage': 0.19125250748257341,\n",
       "     'datetime': '2011-01-01T00:00:00.000+01:00'}]}},\n",
       " {'type': 'Eólica',\n",
       "  'id': '10291',\n",
       "  'groupId': '1',\n",
       "  'attributes': {'title': 'Eólica',\n",
       "   'description': None,\n",
       "   'color': '#6fb114',\n",
       "   'type': 'Renovable',\n",
       "   'magnitude': None,\n",
       "   'composite': False,\n",
       "   'last-update': '2018-12-10T12:55:16.000+01:00',\n",
       "   'values': [{'value': 42477250.769,\n",
       "     'percentage': 0.15204447818744143,\n",
       "     'datetime': '2011-01-01T00:00:00.000+01:00'}]}},\n",
       " {'type': 'Solar fotovoltaica',\n",
       "  'id': '1458',\n",
       "  'groupId': '1',\n",
       "  'attributes': {'title': 'Solar fotovoltaica',\n",
       "   'description': None,\n",
       "   'color': '#e48500',\n",
       "   'type': 'Renovable',\n",
       "   'magnitude': None,\n",
       "   'composite': False,\n",
       "   'last-update': '2018-12-10T12:55:17.000+01:00',\n",
       "   'values': [{'value': 7440752.38,\n",
       "     'percentage': 0.026633675495889363,\n",
       "     'datetime': '2011-01-01T00:00:00.000+01:00'}]}},\n",
       " {'type': 'Solar térmica',\n",
       "  'id': '1459',\n",
       "  'groupId': '1',\n",
       "  'attributes': {'title': 'Solar térmica',\n",
       "   'description': None,\n",
       "   'color': '#ff0000',\n",
       "   'type': 'Renovable',\n",
       "   'magnitude': None,\n",
       "   'composite': False,\n",
       "   'last-update': '2018-12-10T12:55:18.000+01:00',\n",
       "   'values': [{'value': 1861641.549,\n",
       "     'percentage': 0.006663621415356228,\n",
       "     'datetime': '2011-01-01T00:00:00.000+01:00'}]}},\n",
       " {'type': 'Otras renovables',\n",
       "  'id': '10292',\n",
       "  'groupId': '1',\n",
       "  'attributes': {'title': 'Otras renovables',\n",
       "   'description': None,\n",
       "   'color': '#9a5cbc',\n",
       "   'type': 'Renovable',\n",
       "   'magnitude': None,\n",
       "   'composite': False,\n",
       "   'last-update': '2018-12-10T12:55:21.000+01:00',\n",
       "   'values': [{'value': 3714034.268,\n",
       "     'percentage': 0.013294137262302632,\n",
       "     'datetime': '2011-01-01T00:00:00.000+01:00'}]}},\n",
       " {'type': 'Cogeneración',\n",
       "  'id': '10293',\n",
       "  'groupId': '1',\n",
       "  'attributes': {'title': 'Cogeneración',\n",
       "   'description': None,\n",
       "   'color': '#cfa2ca',\n",
       "   'type': 'No-Renovable',\n",
       "   'magnitude': None,\n",
       "   'composite': False,\n",
       "   'last-update': '2018-12-10T12:55:24.000+01:00',\n",
       "   'values': [{'value': 30593251.7239999,\n",
       "     'percentage': 0.10950649842497126,\n",
       "     'datetime': '2011-01-01T00:00:00.000+01:00'}]}},\n",
       " {'type': 'Residuos no renovables',\n",
       "  'id': '10294',\n",
       "  'groupId': '1',\n",
       "  'attributes': {'title': 'Residuos no renovables',\n",
       "   'description': None,\n",
       "   'color': '#666666',\n",
       "   'type': 'No-Renovable',\n",
       "   'magnitude': None,\n",
       "   'composite': False,\n",
       "   'last-update': '2018-12-10T12:55:27.000+01:00',\n",
       "   'values': [{'value': 1287770.48,\n",
       "     'percentage': 0.004609488305200889,\n",
       "     'datetime': '2011-01-01T00:00:00.000+01:00'}]}},\n",
       " {'type': 'Residuos renovables',\n",
       "  'id': '10295',\n",
       "  'groupId': '1',\n",
       "  'attributes': {'title': 'Residuos renovables',\n",
       "   'description': None,\n",
       "   'color': '#a0a0a0',\n",
       "   'type': 'Renovable',\n",
       "   'magnitude': None,\n",
       "   'composite': False,\n",
       "   'last-update': '2018-12-10T12:55:25.000+01:00',\n",
       "   'values': [{'value': 736055.744,\n",
       "     'percentage': 0.0026346623071713364,\n",
       "     'datetime': '2011-01-01T00:00:00.000+01:00'}]}},\n",
       " {'type': 'Generación total',\n",
       "  'id': '1',\n",
       "  'groupId': '1',\n",
       "  'attributes': {'title': 'Generación total',\n",
       "   'description': None,\n",
       "   'color': '#2b2e34',\n",
       "   'type': 'Generación total',\n",
       "   'magnitude': None,\n",
       "   'composite': True,\n",
       "   'last-update': '2019-06-12T15:32:24.000+02:00',\n",
       "   'values': [{'value': 279353822.1999998,\n",
       "     'percentage': 1,\n",
       "     'datetime': '2011-01-01T00:00:00.000+01:00'}]}}]"
      ]
     },
     "execution_count": 172,
     "metadata": {},
     "output_type": "execute_result"
    }
   ],
   "source": [
    "info_energia['included']"
   ]
  },
  {
   "cell_type": "code",
   "execution_count": 177,
   "metadata": {},
   "outputs": [
    {
     "data": {
      "text/plain": [
       "list[0]"
      ]
     },
     "execution_count": 177,
     "metadata": {},
     "output_type": "execute_result"
    }
   ],
   "source": [
    "type(info_energia['included'])"
   ]
  },
  {
   "cell_type": "code",
   "execution_count": 178,
   "metadata": {},
   "outputs": [
    {
     "data": {
      "text/plain": [
       "dict_keys(['type', 'id', 'groupId', 'attributes'])"
      ]
     },
     "execution_count": 178,
     "metadata": {},
     "output_type": "execute_result"
    }
   ],
   "source": [
    "info_energia['included'][0].keys()"
   ]
  },
  {
   "cell_type": "code",
   "execution_count": 179,
   "metadata": {},
   "outputs": [
    {
     "data": {
      "text/plain": [
       "dict_keys(['title', 'description', 'color', 'type', 'magnitude', 'composite', 'last-update', 'values'])"
      ]
     },
     "execution_count": 179,
     "metadata": {},
     "output_type": "execute_result"
    }
   ],
   "source": [
    "info_energia['included'][0]['attributes'].keys()"
   ]
  },
  {
   "cell_type": "code",
   "execution_count": 180,
   "metadata": {},
   "outputs": [
    {
     "data": {
      "text/plain": [
       "'Renovable'"
      ]
     },
     "execution_count": 180,
     "metadata": {},
     "output_type": "execute_result"
    }
   ],
   "source": [
    "info_energia['included'][0]['attributes']['type']"
   ]
  },
  {
   "cell_type": "code",
   "execution_count": 181,
   "metadata": {},
   "outputs": [
    {
     "name": "stdout",
     "output_type": "stream",
     "text": [
      "Renovable\n",
      "--------------------\n",
      "No-Renovable\n",
      "--------------------\n",
      "No-Renovable\n",
      "--------------------\n",
      "No-Renovable\n",
      "--------------------\n",
      "No-Renovable\n",
      "--------------------\n",
      "No-Renovable\n",
      "--------------------\n",
      "No-Renovable\n",
      "--------------------\n",
      "No-Renovable\n",
      "--------------------\n",
      "No-Renovable\n",
      "--------------------\n",
      "Renovable\n",
      "--------------------\n",
      "Renovable\n",
      "--------------------\n",
      "Renovable\n",
      "--------------------\n",
      "Renovable\n",
      "--------------------\n",
      "No-Renovable\n",
      "--------------------\n",
      "No-Renovable\n",
      "--------------------\n",
      "Renovable\n",
      "--------------------\n",
      "Generación total\n",
      "--------------------\n"
     ]
    }
   ],
   "source": [
    "for i in info_energia['included']: \n",
    "    print(i['attributes']['type'])\n",
    "    print(\"--------------------\")\n"
   ]
  },
  {
   "cell_type": "code",
   "execution_count": null,
   "metadata": {},
   "outputs": [],
   "source": []
  },
  {
   "cell_type": "code",
   "execution_count": null,
   "metadata": {},
   "outputs": [],
   "source": [
    "dict = diccionario_resultados_datos[\"datos\"].append(resultados_json[\"name\"])"
   ]
  }
 ],
 "metadata": {
  "kernelspec": {
   "display_name": "base",
   "language": "python",
   "name": "python3"
  },
  "language_info": {
   "codemirror_mode": {
    "name": "ipython",
    "version": 3
   },
   "file_extension": ".py",
   "mimetype": "text/x-python",
   "name": "python",
   "nbconvert_exporter": "python",
   "pygments_lexer": "ipython3",
   "version": "3.12.4"
  }
 },
 "nbformat": 4,
 "nbformat_minor": 2
}
